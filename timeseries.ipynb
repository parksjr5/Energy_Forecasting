{
 "cells": [
  {
   "cell_type": "markdown",
   "metadata": {},
   "source": [
    "# Timeseries Analysis of Appliance and Light Usage"
   ]
  },
  {
   "cell_type": "markdown",
   "metadata": {},
   "source": [
    "#### Imports"
   ]
  },
  {
   "cell_type": "code",
   "execution_count": null,
   "metadata": {},
   "outputs": [],
   "source": [
    "import pandas as pd\n",
    "import numpy as np\n",
    "import matplotlib.pyplot as plt\n",
    "import seaborn as sns"
   ]
  },
  {
   "cell_type": "code",
   "execution_count": null,
   "metadata": {},
   "outputs": [],
   "source": [
    "# import data\n",
    "df = pd.read_csv('https://archive.ics.uci.edu/ml/machine-learning-databases/00374/energydata_complete.csv')"
   ]
  },
  {
   "cell_type": "code",
   "execution_count": null,
   "metadata": {},
   "outputs": [],
   "source": [
    "# df for exploratory data\n",
    "exp_df = df\n",
    "df.head(5)"
   ]
  },
  {
   "cell_type": "markdown",
   "metadata": {},
   "source": [
    "### Exploratory Data Analysis"
   ]
  },
  {
   "cell_type": "markdown",
   "metadata": {},
   "source": [
    "#### Attribute and Characteristics"
   ]
  },
  {
   "cell_type": "code",
   "execution_count": null,
   "metadata": {},
   "outputs": [],
   "source": [
    "# column names\n",
    "exp_df.columns"
   ]
  },
  {
   "cell_type": "code",
   "execution_count": null,
   "metadata": {},
   "outputs": [],
   "source": [
    "# check for missing values\n",
    "exp_df.isna().sum()"
   ]
  },
  {
   "cell_type": "code",
   "execution_count": null,
   "metadata": {},
   "outputs": [],
   "source": [
    "# check data types of each column\n",
    "exp_df.dtypes"
   ]
  },
  {
   "cell_type": "markdown",
   "metadata": {},
   "source": [
    "#### Visualize Data"
   ]
  },
  {
   "cell_type": "code",
   "execution_count": null,
   "metadata": {},
   "outputs": [],
   "source": [
    "fig, ax = plt.subplots(4,5, figsize=(16,9))\n",
    "\n",
    "ax[0,0].plot(exp_df['date'].loc[:100,], exp_df['T1'].loc[:100,])\n",
    "ax[0,0].tick_params(labelbottom = False, bottom = False)\n",
    "ax[0,0].set_ylabel('Temperature')\n",
    "ax[1,0].plot(exp_df['date'].loc[:100,], exp_df['RH_1'].loc[:100,])\n",
    "ax[1,0].tick_params(labelbottom = False, bottom = False)\n",
    "ax[1,0].set_ylabel('Humidity')\n",
    "ax[0,0].set_title('Kitchen Area')\n",
    "\n",
    "ax[0,1].plot(exp_df['date'].loc[:100,], exp_df['T2'].loc[:100,])\n",
    "ax[0,1].tick_params(labelbottom = False, bottom = False)\n",
    "ax[1,1].plot(exp_df['date'].loc[:100,], exp_df['RH_2'].loc[:100,])\n",
    "ax[1,1].tick_params(labelbottom = False, bottom = False)\n",
    "ax[0,1].set_title('Living Area')\n",
    "\n",
    "ax[0,2].plot(exp_df['date'].loc[:100,], exp_df['T3'].loc[:100,])\n",
    "ax[0,2].tick_params(labelbottom = False, bottom = False)\n",
    "ax[1,2].plot(exp_df['date'].loc[:100,], exp_df['RH_3'].loc[:100,])\n",
    "ax[1,2].tick_params(labelbottom = False, bottom = False)\n",
    "ax[0,2].set_title('Laundry Area')\n",
    "\n",
    "ax[0,3].plot(exp_df['date'].loc[:100,], exp_df['T4'].loc[:100,])\n",
    "ax[0,3].tick_params(labelbottom = False, bottom = False)\n",
    "ax[1,3].plot(exp_df['date'].loc[:100,], exp_df['RH_4'].loc[:100,])\n",
    "ax[1,3].tick_params(labelbottom = False, bottom = False)\n",
    "ax[0,3].set_title('Office Area')\n",
    "\n",
    "ax[0,4].plot(exp_df['date'].loc[:100,], exp_df['T5'].loc[:100,])\n",
    "ax[0,4].tick_params(labelbottom = False, bottom = False)\n",
    "ax[1,4].plot(exp_df['date'].loc[:100,], exp_df['RH_5'].loc[:100,])\n",
    "ax[1,4].tick_params(labelbottom = False, bottom = False)\n",
    "ax[0,4].set_title('Bathroom')\n",
    "\n",
    "ax[2,0].plot(exp_df['date'].loc[:100,], exp_df['Appliances'].loc[:100,])\n",
    "ax[2,0].tick_params(labelbottom = False, bottom = False)\n",
    "ax[2,0].set_ylabel('Energy (Wh)')\n",
    "ax[2,0].set_title('Appliances')\n",
    "ax[3,0].plot(exp_df['date'].loc[:100,], exp_df['lights'].loc[:100,])\n",
    "ax[3,0].tick_params(labelbottom = False, bottom = False)\n",
    "ax[3,0].set_ylabel('Energy (Wh)')\n",
    "ax[3,0].set_title('Lights')\n",
    "ax[3,0].set_xlabel('Time (mins)')\n",
    "\n",
    "ax[2,1].plot(exp_df['date'].loc[:100,], exp_df['T8'].loc[:100,])\n",
    "ax[2,1].tick_params(labelbottom = False, bottom = False)\n",
    "ax[2,1].set_ylabel('Temperature')\n",
    "ax[3,1].plot(exp_df['date'].loc[:100,], exp_df['RH_8'].loc[:100,])\n",
    "ax[3,1].set_xlabel('Time (mins)')\n",
    "ax[3,1].set_ylabel('Humidity')\n",
    "ax[3,1].tick_params(labelbottom = False, bottom = False)\n",
    "ax[2,1].set_title('Teenager Room')\n",
    "\n",
    "ax[2,2].plot(exp_df['date'].loc[:100,], exp_df['T3'].loc[:100,])\n",
    "ax[2,2].tick_params(labelbottom = False, bottom = False)\n",
    "ax[3,2].plot(exp_df['date'].loc[:100,], exp_df['RH_3'].loc[:100,])\n",
    "ax[3,2].tick_params(labelbottom = False, bottom = False)\n",
    "ax[3,2].set_xlabel('Time (mins)')\n",
    "ax[2,2].set_title('Parents Room')\n",
    "\n",
    "ax[2,3].plot(exp_df['date'].loc[:100,], exp_df['T6'].loc[:100,])\n",
    "ax[2,3].tick_params(labelbottom = False, bottom = False)\n",
    "ax[3,3].plot(exp_df['date'].loc[:100,], exp_df['RH_6'].loc[:100,])\n",
    "ax[3,3].tick_params(labelbottom = False, bottom = False)\n",
    "ax[3,3].set_xlabel('Time (mins)')\n",
    "ax[2,3].set_title('Outside Building')\n",
    "\n",
    "ax[2,4].plot(exp_df['date'].loc[:100,], exp_df['T7'].loc[:100,])\n",
    "ax[2,4].tick_params(labelbottom = False, bottom = False)\n",
    "ax[3,4].plot(exp_df['date'].loc[:100,], exp_df['RH_7'].loc[:100,])\n",
    "ax[3,4].tick_params(labelbottom = False, bottom = False)\n",
    "ax[3,4].set_xlabel('Time (mins)')\n",
    "ax[2,4].set_title('Ironing Room')\n",
    "\n",
    "\n",
    "plt.tight_layout()"
   ]
  },
  {
   "cell_type": "code",
   "execution_count": null,
   "metadata": {},
   "outputs": [],
   "source": [
    "#looking at Temperature columns\n",
    "# regex = '^T' means starts with T\n",
    "filt = exp_df.filter(regex='^T', axis='columns').corr()\n",
    "ax = plt.axes()\n",
    "sns.heatmap(filt.corr(), ax = ax)\n",
    "ax.set_title('Room Temperature Correlation')\n",
    "plt.show()"
   ]
  },
  {
   "cell_type": "code",
   "execution_count": null,
   "metadata": {},
   "outputs": [],
   "source": [
    "#looking at Relative Humidity columns\n",
    "# regex = '^R' means starts with R\n",
    "filt = exp_df.filter(regex='^R', axis='columns').corr()\n",
    "ax = plt.axes()\n",
    "sns.heatmap(filt.corr(), ax = ax)\n",
    "ax.set_title('Room Relative Humidity Correlation')\n",
    "plt.show()"
   ]
  },
  {
   "cell_type": "markdown",
   "metadata": {},
   "source": [
    "#### Initial EDA Observations"
   ]
  },
  {
   "cell_type": "markdown",
   "metadata": {},
   "source": [
    "There are many basic relationships we are able to see just from our exploratory data analysis. For example, in the line graphs we can see the trends of energy usage by appliances and lights in the bottom left hand column. In the right above their graphs, we can see the temperature and relative humidity of the kitchen (chosen since many appliances are in this one room). Based on the graphs of all the rooms, we can see there is an overall spike and decline. Look more closely though, and we see these spikes and declines are not all the same. Interestingly, the graphs of the appliances and lights have a greater amount of spikes and variations then most rooms.<br/><br/>\n",
    "Upon first glance, these correlation plots reveal a few interesting things. It appears there is not as much of a correlation between temperature and the appliance and lights as there is for relative humidity and appliances and lights. <br/><br/>\n",
    "Just from these two plots, we hypothesize that relative humidity has a stronger impact on the energy usage of lights rather than appliances. On the flipside, we hypothesize temperature has a stronger impact on the energy usage of appliances than lights.   "
   ]
  },
  {
   "cell_type": "markdown",
   "metadata": {},
   "source": [
    "### Prepare the Data"
   ]
  },
  {
   "cell_type": "code",
   "execution_count": null,
   "metadata": {},
   "outputs": [],
   "source": []
  }
 ],
 "metadata": {
  "kernelspec": {
   "display_name": "Python 3 (ipykernel)",
   "language": "python",
   "name": "python3"
  },
  "language_info": {
   "codemirror_mode": {
    "name": "ipython",
    "version": 3
   },
   "file_extension": ".py",
   "mimetype": "text/x-python",
   "name": "python",
   "nbconvert_exporter": "python",
   "pygments_lexer": "ipython3",
   "version": "3.8.12"
  }
 },
 "nbformat": 4,
 "nbformat_minor": 2
}
