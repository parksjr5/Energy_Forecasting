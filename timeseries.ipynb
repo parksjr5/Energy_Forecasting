{
 "cells": [
  {
   "cell_type": "markdown",
   "metadata": {},
   "source": [
    "# Timeseries Analysis of Appliance and Light Usage"
   ]
  },
  {
   "cell_type": "markdown",
   "metadata": {},
   "source": [
    "#### Imports"
   ]
  },
  {
   "cell_type": "code",
   "execution_count": 2,
   "metadata": {},
   "outputs": [],
   "source": [
    "import pandas as pd\n",
    "import numpy as np\n",
    "import matplotlib.pyplot as plt\n",
    "import seaborn as sns"
   ]
  },
  {
   "cell_type": "code",
   "execution_count": 3,
   "metadata": {},
   "outputs": [],
   "source": [
    "# import data\n",
    "df = pd.read_csv('https://archive.ics.uci.edu/ml/machine-learning-databases/00374/energydata_complete.csv')"
   ]
  },
  {
   "cell_type": "code",
   "execution_count": 12,
   "metadata": {},
   "outputs": [
    {
     "data": {
      "text/html": [
       "<div>\n",
       "<style scoped>\n",
       "    .dataframe tbody tr th:only-of-type {\n",
       "        vertical-align: middle;\n",
       "    }\n",
       "\n",
       "    .dataframe tbody tr th {\n",
       "        vertical-align: top;\n",
       "    }\n",
       "\n",
       "    .dataframe thead th {\n",
       "        text-align: right;\n",
       "    }\n",
       "</style>\n",
       "<table border=\"1\" class=\"dataframe\">\n",
       "  <thead>\n",
       "    <tr style=\"text-align: right;\">\n",
       "      <th></th>\n",
       "      <th>date</th>\n",
       "      <th>Appliances</th>\n",
       "      <th>lights</th>\n",
       "      <th>T1</th>\n",
       "      <th>RH_1</th>\n",
       "      <th>T2</th>\n",
       "      <th>RH_2</th>\n",
       "      <th>T3</th>\n",
       "      <th>RH_3</th>\n",
       "      <th>T4</th>\n",
       "      <th>...</th>\n",
       "      <th>T9</th>\n",
       "      <th>RH_9</th>\n",
       "      <th>T_out</th>\n",
       "      <th>Press_mm_hg</th>\n",
       "      <th>RH_out</th>\n",
       "      <th>Windspeed</th>\n",
       "      <th>Visibility</th>\n",
       "      <th>Tdewpoint</th>\n",
       "      <th>rv1</th>\n",
       "      <th>rv2</th>\n",
       "    </tr>\n",
       "  </thead>\n",
       "  <tbody>\n",
       "    <tr>\n",
       "      <th>0</th>\n",
       "      <td>2016-01-11 17:00:00</td>\n",
       "      <td>60</td>\n",
       "      <td>30</td>\n",
       "      <td>19.89</td>\n",
       "      <td>47.596667</td>\n",
       "      <td>19.2</td>\n",
       "      <td>44.790000</td>\n",
       "      <td>19.79</td>\n",
       "      <td>44.730000</td>\n",
       "      <td>19.000000</td>\n",
       "      <td>...</td>\n",
       "      <td>17.033333</td>\n",
       "      <td>45.53</td>\n",
       "      <td>6.600000</td>\n",
       "      <td>733.5</td>\n",
       "      <td>92.0</td>\n",
       "      <td>7.000000</td>\n",
       "      <td>63.000000</td>\n",
       "      <td>5.3</td>\n",
       "      <td>13.275433</td>\n",
       "      <td>13.275433</td>\n",
       "    </tr>\n",
       "    <tr>\n",
       "      <th>1</th>\n",
       "      <td>2016-01-11 17:10:00</td>\n",
       "      <td>60</td>\n",
       "      <td>30</td>\n",
       "      <td>19.89</td>\n",
       "      <td>46.693333</td>\n",
       "      <td>19.2</td>\n",
       "      <td>44.722500</td>\n",
       "      <td>19.79</td>\n",
       "      <td>44.790000</td>\n",
       "      <td>19.000000</td>\n",
       "      <td>...</td>\n",
       "      <td>17.066667</td>\n",
       "      <td>45.56</td>\n",
       "      <td>6.483333</td>\n",
       "      <td>733.6</td>\n",
       "      <td>92.0</td>\n",
       "      <td>6.666667</td>\n",
       "      <td>59.166667</td>\n",
       "      <td>5.2</td>\n",
       "      <td>18.606195</td>\n",
       "      <td>18.606195</td>\n",
       "    </tr>\n",
       "    <tr>\n",
       "      <th>2</th>\n",
       "      <td>2016-01-11 17:20:00</td>\n",
       "      <td>50</td>\n",
       "      <td>30</td>\n",
       "      <td>19.89</td>\n",
       "      <td>46.300000</td>\n",
       "      <td>19.2</td>\n",
       "      <td>44.626667</td>\n",
       "      <td>19.79</td>\n",
       "      <td>44.933333</td>\n",
       "      <td>18.926667</td>\n",
       "      <td>...</td>\n",
       "      <td>17.000000</td>\n",
       "      <td>45.50</td>\n",
       "      <td>6.366667</td>\n",
       "      <td>733.7</td>\n",
       "      <td>92.0</td>\n",
       "      <td>6.333333</td>\n",
       "      <td>55.333333</td>\n",
       "      <td>5.1</td>\n",
       "      <td>28.642668</td>\n",
       "      <td>28.642668</td>\n",
       "    </tr>\n",
       "    <tr>\n",
       "      <th>3</th>\n",
       "      <td>2016-01-11 17:30:00</td>\n",
       "      <td>50</td>\n",
       "      <td>40</td>\n",
       "      <td>19.89</td>\n",
       "      <td>46.066667</td>\n",
       "      <td>19.2</td>\n",
       "      <td>44.590000</td>\n",
       "      <td>19.79</td>\n",
       "      <td>45.000000</td>\n",
       "      <td>18.890000</td>\n",
       "      <td>...</td>\n",
       "      <td>17.000000</td>\n",
       "      <td>45.40</td>\n",
       "      <td>6.250000</td>\n",
       "      <td>733.8</td>\n",
       "      <td>92.0</td>\n",
       "      <td>6.000000</td>\n",
       "      <td>51.500000</td>\n",
       "      <td>5.0</td>\n",
       "      <td>45.410389</td>\n",
       "      <td>45.410389</td>\n",
       "    </tr>\n",
       "    <tr>\n",
       "      <th>4</th>\n",
       "      <td>2016-01-11 17:40:00</td>\n",
       "      <td>60</td>\n",
       "      <td>40</td>\n",
       "      <td>19.89</td>\n",
       "      <td>46.333333</td>\n",
       "      <td>19.2</td>\n",
       "      <td>44.530000</td>\n",
       "      <td>19.79</td>\n",
       "      <td>45.000000</td>\n",
       "      <td>18.890000</td>\n",
       "      <td>...</td>\n",
       "      <td>17.000000</td>\n",
       "      <td>45.40</td>\n",
       "      <td>6.133333</td>\n",
       "      <td>733.9</td>\n",
       "      <td>92.0</td>\n",
       "      <td>5.666667</td>\n",
       "      <td>47.666667</td>\n",
       "      <td>4.9</td>\n",
       "      <td>10.084097</td>\n",
       "      <td>10.084097</td>\n",
       "    </tr>\n",
       "  </tbody>\n",
       "</table>\n",
       "<p>5 rows × 29 columns</p>\n",
       "</div>"
      ],
      "text/plain": [
       "                 date  Appliances  lights     T1       RH_1    T2       RH_2  \\\n",
       "0 2016-01-11 17:00:00          60      30  19.89  47.596667  19.2  44.790000   \n",
       "1 2016-01-11 17:10:00          60      30  19.89  46.693333  19.2  44.722500   \n",
       "2 2016-01-11 17:20:00          50      30  19.89  46.300000  19.2  44.626667   \n",
       "3 2016-01-11 17:30:00          50      40  19.89  46.066667  19.2  44.590000   \n",
       "4 2016-01-11 17:40:00          60      40  19.89  46.333333  19.2  44.530000   \n",
       "\n",
       "      T3       RH_3         T4  ...         T9   RH_9     T_out  Press_mm_hg  \\\n",
       "0  19.79  44.730000  19.000000  ...  17.033333  45.53  6.600000        733.5   \n",
       "1  19.79  44.790000  19.000000  ...  17.066667  45.56  6.483333        733.6   \n",
       "2  19.79  44.933333  18.926667  ...  17.000000  45.50  6.366667        733.7   \n",
       "3  19.79  45.000000  18.890000  ...  17.000000  45.40  6.250000        733.8   \n",
       "4  19.79  45.000000  18.890000  ...  17.000000  45.40  6.133333        733.9   \n",
       "\n",
       "   RH_out  Windspeed  Visibility  Tdewpoint        rv1        rv2  \n",
       "0    92.0   7.000000   63.000000        5.3  13.275433  13.275433  \n",
       "1    92.0   6.666667   59.166667        5.2  18.606195  18.606195  \n",
       "2    92.0   6.333333   55.333333        5.1  28.642668  28.642668  \n",
       "3    92.0   6.000000   51.500000        5.0  45.410389  45.410389  \n",
       "4    92.0   5.666667   47.666667        4.9  10.084097  10.084097  \n",
       "\n",
       "[5 rows x 29 columns]"
      ]
     },
     "execution_count": 12,
     "metadata": {},
     "output_type": "execute_result"
    }
   ],
   "source": [
    "# df for exploratory data\n",
    "exp_df = df\n",
    "df.head(5)"
   ]
  },
  {
   "cell_type": "markdown",
   "metadata": {},
   "source": [
    "### Exploratory Data Analysis"
   ]
  },
  {
   "cell_type": "markdown",
   "metadata": {},
   "source": [
    "#### Attribute and Characteristics"
   ]
  },
  {
   "cell_type": "code",
   "execution_count": null,
   "metadata": {},
   "outputs": [],
   "source": [
    "# column names\n",
    "exp_df.columns"
   ]
  },
  {
   "cell_type": "code",
   "execution_count": null,
   "metadata": {},
   "outputs": [],
   "source": [
    "# check for missing values\n",
    "exp_df.isna().sum()"
   ]
  },
  {
   "cell_type": "code",
   "execution_count": 13,
   "metadata": {},
   "outputs": [
    {
     "data": {
      "text/plain": [
       "date           datetime64[ns]\n",
       "Appliances              int64\n",
       "lights                  int64\n",
       "T1                    float64\n",
       "RH_1                  float64\n",
       "T2                    float64\n",
       "RH_2                  float64\n",
       "T3                    float64\n",
       "RH_3                  float64\n",
       "T4                    float64\n",
       "RH_4                  float64\n",
       "T5                    float64\n",
       "RH_5                  float64\n",
       "T6                    float64\n",
       "RH_6                  float64\n",
       "T7                    float64\n",
       "RH_7                  float64\n",
       "T8                    float64\n",
       "RH_8                  float64\n",
       "T9                    float64\n",
       "RH_9                  float64\n",
       "T_out                 float64\n",
       "Press_mm_hg           float64\n",
       "RH_out                float64\n",
       "Windspeed             float64\n",
       "Visibility            float64\n",
       "Tdewpoint             float64\n",
       "rv1                   float64\n",
       "rv2                   float64\n",
       "dtype: object"
      ]
     },
     "execution_count": 13,
     "metadata": {},
     "output_type": "execute_result"
    }
   ],
   "source": [
    "# check data types of each column\n",
    "exp_df.dtypes"
   ]
  },
  {
   "cell_type": "markdown",
   "metadata": {},
   "source": [
    "#### Visualize Data"
   ]
  },
  {
   "cell_type": "code",
   "execution_count": null,
   "metadata": {},
   "outputs": [],
   "source": [
    "fig, ax = plt.subplots(4,5, figsize=(16,9))\n",
    "\n",
    "ax[0,0].plot(exp_df['date'].loc[:100,], exp_df['T1'].loc[:100,])\n",
    "ax[0,0].tick_params(labelbottom = False, bottom = False)\n",
    "ax[0,0].set_ylabel('Temperature')\n",
    "ax[1,0].plot(exp_df['date'].loc[:100,], exp_df['RH_1'].loc[:100,])\n",
    "ax[1,0].tick_params(labelbottom = False, bottom = False)\n",
    "ax[1,0].set_ylabel('Humidity')\n",
    "ax[0,0].set_title('Kitchen Area')\n",
    "\n",
    "ax[0,1].plot(exp_df['date'].loc[:100,], exp_df['T2'].loc[:100,])\n",
    "ax[0,1].tick_params(labelbottom = False, bottom = False)\n",
    "ax[1,1].plot(exp_df['date'].loc[:100,], exp_df['RH_2'].loc[:100,])\n",
    "ax[1,1].tick_params(labelbottom = False, bottom = False)\n",
    "ax[0,1].set_title('Living Area')\n",
    "\n",
    "ax[0,2].plot(exp_df['date'].loc[:100,], exp_df['T3'].loc[:100,])\n",
    "ax[0,2].tick_params(labelbottom = False, bottom = False)\n",
    "ax[1,2].plot(exp_df['date'].loc[:100,], exp_df['RH_3'].loc[:100,])\n",
    "ax[1,2].tick_params(labelbottom = False, bottom = False)\n",
    "ax[0,2].set_title('Laundry Area')\n",
    "\n",
    "ax[0,3].plot(exp_df['date'].loc[:100,], exp_df['T4'].loc[:100,])\n",
    "ax[0,3].tick_params(labelbottom = False, bottom = False)\n",
    "ax[1,3].plot(exp_df['date'].loc[:100,], exp_df['RH_4'].loc[:100,])\n",
    "ax[1,3].tick_params(labelbottom = False, bottom = False)\n",
    "ax[0,3].set_title('Office Area')\n",
    "\n",
    "ax[0,4].plot(exp_df['date'].loc[:100,], exp_df['T5'].loc[:100,])\n",
    "ax[0,4].tick_params(labelbottom = False, bottom = False)\n",
    "ax[1,4].plot(exp_df['date'].loc[:100,], exp_df['RH_5'].loc[:100,])\n",
    "ax[1,4].tick_params(labelbottom = False, bottom = False)\n",
    "ax[0,4].set_title('Bathroom')\n",
    "\n",
    "ax[2,0].plot(exp_df['date'].loc[:100,], exp_df['Appliances'].loc[:100,])\n",
    "ax[2,0].tick_params(labelbottom = False, bottom = False)\n",
    "ax[2,0].set_ylabel('Energy (Wh)')\n",
    "ax[2,0].set_title('Appliances')\n",
    "ax[3,0].plot(exp_df['date'].loc[:100,], exp_df['lights'].loc[:100,])\n",
    "ax[3,0].tick_params(labelbottom = False, bottom = False)\n",
    "ax[3,0].set_ylabel('Energy (Wh)')\n",
    "ax[3,0].set_title('Lights')\n",
    "ax[3,0].set_xlabel('Time (mins)')\n",
    "\n",
    "ax[2,1].plot(exp_df['date'].loc[:100,], exp_df['T8'].loc[:100,])\n",
    "ax[2,1].tick_params(labelbottom = False, bottom = False)\n",
    "ax[2,1].set_ylabel('Temperature')\n",
    "ax[3,1].plot(exp_df['date'].loc[:100,], exp_df['RH_8'].loc[:100,])\n",
    "ax[3,1].set_xlabel('Time (mins)')\n",
    "ax[3,1].set_ylabel('Humidity')\n",
    "ax[3,1].tick_params(labelbottom = False, bottom = False)\n",
    "ax[2,1].set_title('Teenager Room')\n",
    "\n",
    "ax[2,2].plot(exp_df['date'].loc[:100,], exp_df['T3'].loc[:100,])\n",
    "ax[2,2].tick_params(labelbottom = False, bottom = False)\n",
    "ax[3,2].plot(exp_df['date'].loc[:100,], exp_df['RH_3'].loc[:100,])\n",
    "ax[3,2].tick_params(labelbottom = False, bottom = False)\n",
    "ax[3,2].set_xlabel('Time (mins)')\n",
    "ax[2,2].set_title('Parents Room')\n",
    "\n",
    "ax[2,3].plot(exp_df['date'].loc[:100,], exp_df['T6'].loc[:100,])\n",
    "ax[2,3].tick_params(labelbottom = False, bottom = False)\n",
    "ax[3,3].plot(exp_df['date'].loc[:100,], exp_df['RH_6'].loc[:100,])\n",
    "ax[3,3].tick_params(labelbottom = False, bottom = False)\n",
    "ax[3,3].set_xlabel('Time (mins)')\n",
    "ax[2,3].set_title('Outside Building')\n",
    "\n",
    "ax[2,4].plot(exp_df['date'].loc[:100,], exp_df['T7'].loc[:100,])\n",
    "ax[2,4].tick_params(labelbottom = False, bottom = False)\n",
    "ax[3,4].plot(exp_df['date'].loc[:100,], exp_df['RH_7'].loc[:100,])\n",
    "ax[3,4].tick_params(labelbottom = False, bottom = False)\n",
    "ax[3,4].set_xlabel('Time (mins)')\n",
    "ax[2,4].set_title('Ironing Room')\n",
    "\n",
    "\n",
    "plt.tight_layout()"
   ]
  },
  {
   "cell_type": "code",
   "execution_count": null,
   "metadata": {},
   "outputs": [],
   "source": [
    "#looking at Temperature columns\n",
    "# regex = '^T' means starts with T\n",
    "filt = exp_df.filter(regex='^T', axis='columns').corr()\n",
    "ax = plt.axes()\n",
    "sns.heatmap(filt.corr(), ax = ax)\n",
    "ax.set_title('Room Temperature Correlation')\n",
    "plt.show()"
   ]
  },
  {
   "cell_type": "code",
   "execution_count": null,
   "metadata": {},
   "outputs": [],
   "source": [
    "#looking at Relative Humidity columns\n",
    "# regex = '^R' means starts with R\n",
    "filt = exp_df.filter(regex='^R', axis='columns').corr()\n",
    "ax = plt.axes()\n",
    "sns.heatmap(filt.corr(), ax = ax)\n",
    "ax.set_title('Room Relative Humidity Correlation')\n",
    "plt.show()"
   ]
  },
  {
   "cell_type": "markdown",
   "metadata": {},
   "source": [
    "#### Initial EDA Observations"
   ]
  },
  {
   "cell_type": "markdown",
   "metadata": {},
   "source": [
    "There are many basic relationships we are able to see just from our exploratory data analysis. For example, in the line graphs we can see the trends of energy usage by appliances and lights in the bottom left hand column. In the right above their graphs, we can see the temperature and relative humidity of the kitchen (chosen since many appliances are in this one room). Based on the graphs of all the rooms, we can see there is an overall spike and decline. Look more closely though, and we see these spikes and declines are not all the same. Interestingly, the graphs of the appliances and lights have a greater amount of spikes and variations then most rooms.<br/><br/>\n",
    "Upon first glance, these correlation plots reveal a few interesting things. It appears there is not as much of a correlation between temperature and the appliance and lights as there is for relative humidity and appliances and lights. <br/><br/>\n",
    "Just from these two plots, we hypothesize that relative humidity has a stronger impact on the energy usage of lights rather than appliances. On the flipside, we hypothesize temperature has a stronger impact on the energy usage of appliances than lights.   "
   ]
  },
  {
   "cell_type": "markdown",
   "metadata": {},
   "source": [
    "### Prepare the Data"
   ]
  },
  {
   "cell_type": "markdown",
   "metadata": {},
   "source": [
    "#### Data Transformation - Univariate"
   ]
  },
  {
   "cell_type": "code",
   "execution_count": 4,
   "metadata": {},
   "outputs": [],
   "source": [
    "prep_df = df"
   ]
  },
  {
   "cell_type": "code",
   "execution_count": 5,
   "metadata": {},
   "outputs": [
    {
     "data": {
      "text/plain": [
       "Index(['date', 'Appliances', 'lights', 'T1', 'RH_1', 'T2', 'RH_2', 'T3',\n",
       "       'RH_3', 'T4', 'RH_4', 'T5', 'RH_5', 'T6', 'RH_6', 'T7', 'RH_7', 'T8',\n",
       "       'RH_8', 'T9', 'RH_9', 'T_out', 'Press_mm_hg', 'RH_out', 'Windspeed',\n",
       "       'Visibility', 'Tdewpoint', 'rv1', 'rv2'],\n",
       "      dtype='object')"
      ]
     },
     "execution_count": 5,
     "metadata": {},
     "output_type": "execute_result"
    }
   ],
   "source": [
    "prep_df.columns"
   ]
  },
  {
   "cell_type": "code",
   "execution_count": 7,
   "metadata": {},
   "outputs": [],
   "source": [
    "appli_df = df\n",
    "# already have date as datetime\n",
    "# appli_df['date'] = pd.to_datetime(appli_df.date)"
   ]
  },
  {
   "cell_type": "code",
   "execution_count": 16,
   "metadata": {},
   "outputs": [
    {
     "data": {
      "text/html": [
       "<div>\n",
       "<style scoped>\n",
       "    .dataframe tbody tr th:only-of-type {\n",
       "        vertical-align: middle;\n",
       "    }\n",
       "\n",
       "    .dataframe tbody tr th {\n",
       "        vertical-align: top;\n",
       "    }\n",
       "\n",
       "    .dataframe thead th {\n",
       "        text-align: right;\n",
       "    }\n",
       "</style>\n",
       "<table border=\"1\" class=\"dataframe\">\n",
       "  <thead>\n",
       "    <tr style=\"text-align: right;\">\n",
       "      <th></th>\n",
       "      <th>date</th>\n",
       "      <th>Appliances</th>\n",
       "    </tr>\n",
       "  </thead>\n",
       "  <tbody>\n",
       "    <tr>\n",
       "      <th>0</th>\n",
       "      <td>2016-01-11 17:00:00</td>\n",
       "      <td>60</td>\n",
       "    </tr>\n",
       "    <tr>\n",
       "      <th>1</th>\n",
       "      <td>2016-01-11 17:10:00</td>\n",
       "      <td>60</td>\n",
       "    </tr>\n",
       "    <tr>\n",
       "      <th>2</th>\n",
       "      <td>2016-01-11 17:20:00</td>\n",
       "      <td>50</td>\n",
       "    </tr>\n",
       "    <tr>\n",
       "      <th>3</th>\n",
       "      <td>2016-01-11 17:30:00</td>\n",
       "      <td>50</td>\n",
       "    </tr>\n",
       "    <tr>\n",
       "      <th>4</th>\n",
       "      <td>2016-01-11 17:40:00</td>\n",
       "      <td>60</td>\n",
       "    </tr>\n",
       "  </tbody>\n",
       "</table>\n",
       "</div>"
      ],
      "text/plain": [
       "                 date  Appliances\n",
       "0 2016-01-11 17:00:00          60\n",
       "1 2016-01-11 17:10:00          60\n",
       "2 2016-01-11 17:20:00          50\n",
       "3 2016-01-11 17:30:00          50\n",
       "4 2016-01-11 17:40:00          60"
      ]
     },
     "execution_count": 16,
     "metadata": {},
     "output_type": "execute_result"
    }
   ],
   "source": [
    "appli_df = df.iloc[:,[0,1]]\n",
    "appli_df.head()"
   ]
  },
  {
   "cell_type": "code",
   "execution_count": 26,
   "metadata": {},
   "outputs": [
    {
     "data": {
      "text/plain": [
       "Text(0.5, 0, 'Time (min)')"
      ]
     },
     "execution_count": 26,
     "metadata": {},
     "output_type": "execute_result"
    },
    {
     "data": {
      "image/png": "[encoded data removed]",
      "text/plain": [
       "<Figure size 1440x288 with 1 Axes>"
      ]
     },
     "metadata": {
      "needs_background": "light"
     },
     "output_type": "display_data"
    }
   ],
   "source": [
    "plt.figure(figsize=(20,4))\n",
    "plt.plot(appli_df.date, appli_df.Appliances, alpha = 0.5)\n",
    "plt.title('Appliance Energy Usage')\n",
    "plt.ylabel('Energy Usage (kW)')\n",
    "plt.xlabel('Time (min)')"
   ]
  }
 ],
 "metadata": {
  "kernelspec": {
   "display_name": "Python 3 (ipykernel)",
   "language": "python",
   "name": "python3"
  },
  "language_info": {
   "codemirror_mode": {
    "name": "ipython",
    "version": 3
   },
   "file_extension": ".py",
   "mimetype": "text/x-python",
   "name": "python",
   "nbconvert_exporter": "python",
   "pygments_lexer": "ipython3",
   "version": "3.8.12"
  }
 },
 "nbformat": 4,
 "nbformat_minor": 2
}
