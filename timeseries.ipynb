{
 "cells": [
  {
   "attachments": {},
   "cell_type": "markdown",
   "metadata": {},
   "source": [
    "# Timeseries Analysis of Appliacnce and Light Usage"
   ]
  },
  {
   "attachments": {},
   "cell_type": "markdown",
   "metadata": {},
   "source": [
    "#### Imports"
   ]
  },
  {
   "cell_type": "code",
   "execution_count": null,
   "metadata": {},
   "outputs": [],
   "source": [
    "#pip install seaborn"
   ]
  },
  {
   "cell_type": "code",
   "execution_count": 34,
   "metadata": {},
   "outputs": [
    {
     "ename": "ModuleNotFoundError",
     "evalue": "No module named 'seaborn'",
     "output_type": "error",
     "traceback": [
      "\u001b[0;31m---------------------------------------------------------------------------\u001b[0m",
      "\u001b[0;31mModuleNotFoundError\u001b[0m                       Traceback (most recent call last)",
      "Cell \u001b[0;32mIn[34], line 4\u001b[0m\n\u001b[1;32m      2\u001b[0m \u001b[39mimport\u001b[39;00m \u001b[39mnumpy\u001b[39;00m \u001b[39mas\u001b[39;00m \u001b[39mnp\u001b[39;00m\n\u001b[1;32m      3\u001b[0m \u001b[39mimport\u001b[39;00m \u001b[39mmatplotlib\u001b[39;00m\u001b[39m.\u001b[39;00m\u001b[39mpyplot\u001b[39;00m \u001b[39mas\u001b[39;00m \u001b[39mplt\u001b[39;00m\n\u001b[0;32m----> 4\u001b[0m \u001b[39mimport\u001b[39;00m \u001b[39mseaborn\u001b[39;00m \u001b[39mas\u001b[39;00m \u001b[39msns\u001b[39;00m\n",
      "\u001b[0;31mModuleNotFoundError\u001b[0m: No module named 'seaborn'"
     ]
    }
   ],
   "source": [
    "import pandas as pd\n",
    "import numpy as np\n",
    "import matplotlib.pyplot as plt\n",
    "import seaborn as sns"
   ]
  },
  {
   "cell_type": "code",
   "execution_count": null,
   "metadata": {},
   "outputs": [],
   "source": [
    "# import data\n",
    "df = pd.read_csv('https://archive.ics.uci.edu/ml/machine-learning-databases/00374/energydata_complete.csv')"
   ]
  },
  {
   "cell_type": "code",
   "execution_count": null,
   "metadata": {},
   "outputs": [],
   "source": [
    "# df for exploratory data\n",
    "exp_df = df\n",
    "df.head(5)"
   ]
  },
  {
   "cell_type": "markdown",
   "metadata": {},
   "source": [
    "### Exploratory Data Analysis"
   ]
  },
  {
   "cell_type": "markdown",
   "metadata": {},
   "source": [
    "#### Attribute and Characteristics"
   ]
  },
  {
   "cell_type": "code",
   "execution_count": null,
   "metadata": {},
   "outputs": [],
   "source": [
    "# column names\n",
    "exp_df.columns"
   ]
  },
  {
   "cell_type": "code",
   "execution_count": null,
   "metadata": {},
   "outputs": [],
   "source": [
    "# check for missing values\n",
    "# df_exp.isna().sum()"
   ]
  },
  {
   "cell_type": "code",
   "execution_count": null,
   "metadata": {},
   "outputs": [],
   "source": [
    "# check data types of each column\n",
    "# df_exp.dtypes"
   ]
  },
  {
   "cell_type": "markdown",
   "metadata": {},
   "source": [
    "#### Visualize Data"
   ]
  },
  {
   "cell_type": "code",
   "execution_count": null,
   "metadata": {},
   "outputs": [],
   "source": [
    "fig, ax = plt.subplots(4,5, figsize=(16,9))\n",
    "\n",
    "ax[0,0].plot(exp_df['date'].loc[:100,], exp_df['T1'].loc[:100,])\n",
    "ax[0,0].tick_params(labelbottom = False, bottom = False)\n",
    "ax[0,0].set_ylabel('Temperature')\n",
    "ax[1,0].plot(exp_df['date'].loc[:100,], exp_df['RH_1'].loc[:100,])\n",
    "ax[1,0].tick_params(labelbottom = False, bottom = False)\n",
    "ax[1,0].set_ylabel('Humidity')\n",
    "ax[0,0].set_title('Kitchen Area')\n",
    "\n",
    "ax[0,1].plot(exp_df['date'].loc[:100,], exp_df['T2'].loc[:100,])\n",
    "ax[0,1].tick_params(labelbottom = False, bottom = False)\n",
    "ax[1,1].plot(exp_df['date'].loc[:100,], exp_df['RH_2'].loc[:100,])\n",
    "ax[1,1].tick_params(labelbottom = False, bottom = False)\n",
    "ax[0,1].set_title('Living Area')\n",
    "\n",
    "ax[0,2].plot(exp_df['date'].loc[:100,], exp_df['T3'].loc[:100,])\n",
    "ax[0,2].tick_params(labelbottom = False, bottom = False)\n",
    "ax[1,2].plot(exp_df['date'].loc[:100,], exp_df['RH_3'].loc[:100,])\n",
    "ax[1,2].tick_params(labelbottom = False, bottom = False)\n",
    "ax[0,2].set_title('Laundry Area')\n",
    "\n",
    "ax[0,3].plot(exp_df['date'].loc[:100,], exp_df['T4'].loc[:100,])\n",
    "ax[0,3].tick_params(labelbottom = False, bottom = False)\n",
    "ax[1,3].plot(exp_df['date'].loc[:100,], exp_df['RH_4'].loc[:100,])\n",
    "ax[1,3].tick_params(labelbottom = False, bottom = False)\n",
    "ax[0,3].set_title('Office Area')\n",
    "\n",
    "ax[0,4].plot(exp_df['date'].loc[:100,], exp_df['T5'].loc[:100,])\n",
    "ax[0,4].tick_params(labelbottom = False, bottom = False)\n",
    "ax[1,4].plot(exp_df['date'].loc[:100,], exp_df['RH_5'].loc[:100,])\n",
    "ax[1,4].tick_params(labelbottom = False, bottom = False)\n",
    "ax[0,4].set_title('Bathroom')\n",
    "\n",
    "ax[2,0].plot(exp_df['date'].loc[:100,], exp_df['Appliances'].loc[:100,])\n",
    "ax[2,0].tick_params(labelbottom = False, bottom = False)\n",
    "ax[2,0].set_ylabel('Energy (Wh)')\n",
    "ax[2,0].set_title('Appliances')\n",
    "ax[3,0].plot(exp_df['date'].loc[:100,], exp_df['lights'].loc[:100,])\n",
    "ax[3,0].tick_params(labelbottom = False, bottom = False)\n",
    "ax[3,0].set_ylabel('Energy (Wh)')\n",
    "ax[3,0].set_title('Lights')\n",
    "\n",
    "ax[2,1].plot(exp_df['date'].loc[:100,], exp_df['T8'].loc[:100,])\n",
    "ax[2,1].tick_params(labelbottom = False, bottom = False)\n",
    "ax[3,1].plot(exp_df['date'].loc[:100,], exp_df['RH_8'].loc[:100,])\n",
    "ax[3,1].tick_params(labelbottom = False, bottom = False)\n",
    "ax[2,1].set_title('Teenager Room')\n",
    "\n",
    "ax[2,2].plot(exp_df['date'].loc[:100,], exp_df['T3'].loc[:100,])\n",
    "ax[2,2].tick_params(labelbottom = False, bottom = False)\n",
    "ax[3,2].plot(exp_df['date'].loc[:100,], exp_df['RH_3'].loc[:100,])\n",
    "ax[3,2].tick_params(labelbottom = False, bottom = False)\n",
    "ax[2,2].set_title('Parents Room')\n",
    "\n",
    "ax[2,3].plot(exp_df['date'].loc[:100,], exp_df['T6'].loc[:100,])\n",
    "ax[2,3].tick_params(labelbottom = False, bottom = False)\n",
    "ax[3,3].plot(exp_df['date'].loc[:100,], exp_df['RH_6'].loc[:100,])\n",
    "ax[3,3].tick_params(labelbottom = False, bottom = False)\n",
    "ax[2,3].set_title('Outside Building')\n",
    "\n",
    "ax[2,4].plot(exp_df['date'].loc[:100,], exp_df['T7'].loc[:100,])\n",
    "ax[2,4].tick_params(labelbottom = False, bottom = False)\n",
    "ax[3,4].plot(exp_df['date'].loc[:100,], exp_df['RH_7'].loc[:100,])\n",
    "ax[3,4].tick_params(labelbottom = False, bottom = False)\n",
    "ax[2,4].set_title('Ironing Room')\n",
    "\n",
    "plt.tight_layout()"
   ]
  },
  {
   "cell_type": "code",
   "execution_count": null,
   "metadata": {},
   "outputs": [],
   "source": []
  }
 ],
 "metadata": {
  "kernelspec": {
   "display_name": "Python 3",
   "language": "python",
   "name": "python3"
  },
  "language_info": {
   "codemirror_mode": {
    "name": "ipython",
    "version": 3
   },
   "file_extension": ".py",
   "mimetype": "text/x-python",
   "name": "python",
   "nbconvert_exporter": "python",
   "pygments_lexer": "ipython3",
   "version": "3.8.2"
  },
  "orig_nbformat": 4
 },
 "nbformat": 4,
 "nbformat_minor": 2
}
